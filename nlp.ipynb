{
 "cells": [
  {
   "cell_type": "code",
   "execution_count": 1,
   "metadata": {},
   "outputs": [
    {
     "name": "stderr",
     "output_type": "stream",
     "text": [
      "C:\\Users\\Simone\\anaconda3\\lib\\site-packages\\treetaggerwrapper.py:739: FutureWarning: Possible nested set at position 8\n",
      "  punct2find_re = re.compile(\"([^ ])([[\" + ALONEMARKS + \"])\",\n",
      "C:\\Users\\Simone\\anaconda3\\lib\\site-packages\\treetaggerwrapper.py:2043: FutureWarning: Possible nested set at position 152\n",
      "  DnsHostMatch_re = re.compile(\"(\" + DnsHost_expression + \")\",\n",
      "C:\\Users\\Simone\\anaconda3\\lib\\site-packages\\treetaggerwrapper.py:2067: FutureWarning: Possible nested set at position 409\n",
      "  UrlMatch_re = re.compile(UrlMatch_expression, re.VERBOSE | re.IGNORECASE)\n",
      "C:\\Users\\Simone\\anaconda3\\lib\\site-packages\\treetaggerwrapper.py:2079: FutureWarning: Possible nested set at position 192\n",
      "  EmailMatch_re = re.compile(EmailMatch_expression, re.VERBOSE | re.IGNORECASE)\n"
     ]
    }
   ],
   "source": [
    "import numpy\n",
    "import pandas as pd\n",
    "import numpy as np\n",
    "import nltk\n",
    "from ast import literal_eval\n",
    "import treetaggerwrapper as ttw\n",
    "from nltk.stem.porter import *"
   ]
  },
  {
   "cell_type": "code",
   "execution_count": 2,
   "metadata": {},
   "outputs": [],
   "source": [
    "recipes = pd.read_csv(\"data/RAW_recipes.csv\")\n",
    "recipes[\"steps\"] = recipes[\"steps\"].apply(literal_eval)\n",
    "recipes[\"ingredients\"] = recipes[\"ingredients\"].apply(literal_eval)\n",
    "recipes[\"tags\"] = recipes[\"tags\"].apply(literal_eval)"
   ]
  },
  {
   "cell_type": "code",
   "execution_count": 10,
   "metadata": {},
   "outputs": [
    {
     "data": {
      "text/plain": [
       "'a bit different  breakfast pizza'"
      ]
     },
     "execution_count": 10,
     "metadata": {},
     "output_type": "execute_result"
    }
   ],
   "source": [
    "recipes[\"name\"][1]"
   ]
  },
  {
   "cell_type": "code",
   "execution_count": 4,
   "metadata": {},
   "outputs": [
    {
     "data": {
      "text/plain": [
       "['make a choice and proceed with recipe',\n",
       " 'depending on size of squash , cut into half or fourths',\n",
       " 'remove seeds',\n",
       " 'for spicy squash , drizzle olive oil or melted butter over each cut squash piece',\n",
       " 'season with mexican seasoning mix ii',\n",
       " 'for sweet squash , drizzle melted honey , butter , grated piloncillo over each cut squash piece',\n",
       " 'season with sweet mexican spice mix',\n",
       " 'bake at 350 degrees , again depending on size , for 40 minutes up to an hour , until a fork can easily pierce the skin',\n",
       " 'be careful not to burn the squash especially if you opt to use sugar or butter',\n",
       " 'if you feel more comfortable , cover the squash with aluminum foil the first half hour , give or take , of baking',\n",
       " 'if desired , season with salt']"
      ]
     },
     "execution_count": 4,
     "metadata": {},
     "output_type": "execute_result"
    }
   ],
   "source": [
    "recipes[\"steps\"][0]"
   ]
  },
  {
   "cell_type": "code",
   "execution_count": 5,
   "metadata": {},
   "outputs": [
    {
     "data": {
      "text/plain": [
       "['winter squash',\n",
       " 'mexican seasoning',\n",
       " 'mixed spice',\n",
       " 'honey',\n",
       " 'butter',\n",
       " 'olive oil',\n",
       " 'salt']"
      ]
     },
     "execution_count": 5,
     "metadata": {},
     "output_type": "execute_result"
    }
   ],
   "source": [
    "recipes[\"ingredients\"][0]"
   ]
  },
  {
   "cell_type": "code",
   "execution_count": null,
   "metadata": {},
   "outputs": [],
   "source": []
  },
  {
   "cell_type": "code",
   "execution_count": 4,
   "metadata": {},
   "outputs": [],
   "source": [
    "preprocessed_sentence = ''\n",
    "lemma_sentence = ''\n",
    "def tree_tag(text, tagger):\n",
    "    tagged_text = tagger.tag_text(text)\n",
    "    return ttw.make_tags(tagged_text)"
   ]
  },
  {
   "cell_type": "code",
   "execution_count": 5,
   "metadata": {},
   "outputs": [],
   "source": [
    "def tag_ingredients(ingredients):\n",
    "    \n",
    "    tagged_ingredients = []\n",
    "    for ingredient in ingredients:\n",
    "    \n",
    "        sentence = tree_tag(ingredient, tagger)\n",
    "\n",
    "        for tag in sentence:\n",
    "        # remove special characters\n",
    "            if isinstance(tag, ttw.Tag):\n",
    "\n",
    "                # stem\n",
    "                stem = stemmer.stem(tag.lemma)\n",
    "                \n",
    "                if tag.pos in ['NN0', 'NN1', 'NN2']:\n",
    "                    tagged_ingredients.append(stem.split('|')[0])\n",
    "    return tagged_ingredients\n"
   ]
  },
  {
   "cell_type": "code",
   "execution_count": 6,
   "metadata": {},
   "outputs": [],
   "source": [
    "def tag_sentence(original_sentence, ingredients):\n",
    "    \n",
    "    sentence = tree_tag(original_sentence, tagger)\n",
    "\n",
    "    step_ingredients = []\n",
    "    step_activities = []\n",
    "    \n",
    "    for tag in sentence:\n",
    "    # remove special characters\n",
    "        if isinstance(tag, ttw.Tag):\n",
    "            \n",
    "            # stem\n",
    "            stem = stemmer.stem(tag.lemma)\n",
    "            if stem in ingredients:\n",
    "                step_ingredients.append(tag.lemma.split('|')[0])\n",
    "            if tag.pos in ['VVB','VVZ','VVI',\n",
    "                           'VVD','VVN', 'VVP','VVG']:#VVG not sure\n",
    "                step_activities.append(tag.lemma.split('|')[0])\n",
    "                \n",
    "    if len(step_activities) == 0:\n",
    "        # default activity if no verb is present\n",
    "        step_activities.append('use')\n",
    "\n",
    "    return step_ingredients, step_activities\n",
    "\n",
    "            "
   ]
  },
  {
   "cell_type": "code",
   "execution_count": 45,
   "metadata": {},
   "outputs": [],
   "source": [
    "selectByName = True\n",
    "\n",
    "categories =['cheesecake']\n",
    "name = \"chicken nuggets\"\n",
    "max_recipes = 1000\n",
    "tagger = ttw.TreeTagger(TAGLANG='en')\n",
    "stemmer = PorterStemmer()\n",
    "\n",
    "case_id_col = []\n",
    "event_id_col = []\n",
    "order_col = []\n",
    "activity_col = []\n",
    "ingredient_col = []\n",
    "\n",
    "event_cnt = 0 \n",
    "recipe_cnt = 0\n",
    "\n",
    "for i in range(0,recipes.shape[0]):\n",
    "\n",
    "    if (not selectByName and len(np.intersect1d(categories,recipes[\"tags\"][i])) == len(categories)) or (selectByName and name.lower() in str(recipes[\"name\"][i]).lower()):\n",
    "        #print(str(recipes[\"name\"][i]))\n",
    "        recipe_cnt += 1\n",
    "        if recipe_cnt < max_recipes and recipes[\"minutes\"][i] < 1440:\n",
    "            ingredients = tag_ingredients(recipes[\"ingredients\"][i])\n",
    "\n",
    "            minutesPerStep = recipes[\"minutes\"][i]/len(recipes[\"steps\"][i])\n",
    "            time = 0\n",
    "\n",
    "            for original_sentence in recipes[\"steps\"][i]:\n",
    "                step_ingredients, step_activities = tag_sentence(original_sentence,ingredients)\n",
    "\n",
    "                # synchronous events\n",
    "                for ingredient in step_ingredients:\n",
    "                    for activity in step_activities:\n",
    "                        case_id_col.append(i)\n",
    "                        event_id_col.append(event_cnt)\n",
    "                        event_cnt += 1\n",
    "                        order_col.append(time)\n",
    "\n",
    "                        activity_col.append(activity)\n",
    "                        ingredient_col.append(ingredient)\n",
    "\n",
    "                time += minutesPerStep\n",
    "            "
   ]
  },
  {
   "cell_type": "code",
   "execution_count": 46,
   "metadata": {},
   "outputs": [
    {
     "data": {
      "text/html": [
       "<div>\n",
       "<style scoped>\n",
       "    .dataframe tbody tr th:only-of-type {\n",
       "        vertical-align: middle;\n",
       "    }\n",
       "\n",
       "    .dataframe tbody tr th {\n",
       "        vertical-align: top;\n",
       "    }\n",
       "\n",
       "    .dataframe thead th {\n",
       "        text-align: right;\n",
       "    }\n",
       "</style>\n",
       "<table border=\"1\" class=\"dataframe\">\n",
       "  <thead>\n",
       "    <tr style=\"text-align: right;\">\n",
       "      <th></th>\n",
       "      <th>case_id</th>\n",
       "      <th>event_id</th>\n",
       "      <th>order</th>\n",
       "      <th>activity</th>\n",
       "      <th>ingredient</th>\n",
       "    </tr>\n",
       "  </thead>\n",
       "  <tbody>\n",
       "    <tr>\n",
       "      <th>0</th>\n",
       "      <td>1104</td>\n",
       "      <td>0</td>\n",
       "      <td>0.000000</td>\n",
       "      <td>cut</td>\n",
       "      <td>chicken</td>\n",
       "    </tr>\n",
       "    <tr>\n",
       "      <th>1</th>\n",
       "      <td>1104</td>\n",
       "      <td>1</td>\n",
       "      <td>0.000000</td>\n",
       "      <td>begin</td>\n",
       "      <td>chicken</td>\n",
       "    </tr>\n",
       "    <tr>\n",
       "      <th>2</th>\n",
       "      <td>1104</td>\n",
       "      <td>2</td>\n",
       "      <td>0.000000</td>\n",
       "      <td>heating</td>\n",
       "      <td>chicken</td>\n",
       "    </tr>\n",
       "    <tr>\n",
       "      <th>3</th>\n",
       "      <td>1104</td>\n",
       "      <td>3</td>\n",
       "      <td>0.000000</td>\n",
       "      <td>cut</td>\n",
       "      <td>breast</td>\n",
       "    </tr>\n",
       "    <tr>\n",
       "      <th>4</th>\n",
       "      <td>1104</td>\n",
       "      <td>4</td>\n",
       "      <td>0.000000</td>\n",
       "      <td>begin</td>\n",
       "      <td>breast</td>\n",
       "    </tr>\n",
       "    <tr>\n",
       "      <th>...</th>\n",
       "      <td>...</td>\n",
       "      <td>...</td>\n",
       "      <td>...</td>\n",
       "      <td>...</td>\n",
       "      <td>...</td>\n",
       "    </tr>\n",
       "    <tr>\n",
       "      <th>1079</th>\n",
       "      <td>230412</td>\n",
       "      <td>1079</td>\n",
       "      <td>15.000000</td>\n",
       "      <td>use</td>\n",
       "      <td>horseradish</td>\n",
       "    </tr>\n",
       "    <tr>\n",
       "      <th>1080</th>\n",
       "      <td>230412</td>\n",
       "      <td>1080</td>\n",
       "      <td>16.666667</td>\n",
       "      <td>mix</td>\n",
       "      <td>cream</td>\n",
       "    </tr>\n",
       "    <tr>\n",
       "      <th>1081</th>\n",
       "      <td>230412</td>\n",
       "      <td>1081</td>\n",
       "      <td>16.666667</td>\n",
       "      <td>mix</td>\n",
       "      <td>horseradish</td>\n",
       "    </tr>\n",
       "    <tr>\n",
       "      <th>1082</th>\n",
       "      <td>230412</td>\n",
       "      <td>1082</td>\n",
       "      <td>16.666667</td>\n",
       "      <td>mix</td>\n",
       "      <td>pepper</td>\n",
       "    </tr>\n",
       "    <tr>\n",
       "      <th>1083</th>\n",
       "      <td>230412</td>\n",
       "      <td>1083</td>\n",
       "      <td>16.666667</td>\n",
       "      <td>mix</td>\n",
       "      <td>salt</td>\n",
       "    </tr>\n",
       "  </tbody>\n",
       "</table>\n",
       "<p>1084 rows × 5 columns</p>\n",
       "</div>"
      ],
      "text/plain": [
       "      case_id  event_id      order activity   ingredient\n",
       "0        1104         0   0.000000      cut      chicken\n",
       "1        1104         1   0.000000    begin      chicken\n",
       "2        1104         2   0.000000  heating      chicken\n",
       "3        1104         3   0.000000      cut       breast\n",
       "4        1104         4   0.000000    begin       breast\n",
       "...       ...       ...        ...      ...          ...\n",
       "1079   230412      1079  15.000000      use  horseradish\n",
       "1080   230412      1080  16.666667      mix        cream\n",
       "1081   230412      1081  16.666667      mix  horseradish\n",
       "1082   230412      1082  16.666667      mix       pepper\n",
       "1083   230412      1083  16.666667      mix         salt\n",
       "\n",
       "[1084 rows x 5 columns]"
      ]
     },
     "execution_count": 46,
     "metadata": {},
     "output_type": "execute_result"
    }
   ],
   "source": [
    "recipe_log = pd.DataFrame({'case_id': case_id_col,\n",
    "                           'event_id': event_id_col,\n",
    "                           'order': order_col,\n",
    "                           'activity': activity_col,\n",
    "                           'ingredient': ingredient_col})\n",
    "recipe_log"
   ]
  },
  {
   "cell_type": "code",
   "execution_count": 47,
   "metadata": {},
   "outputs": [],
   "source": [
    "if selectByName:\n",
    "    recipe_log.to_csv('log_' + name + '_1000.csv',index = False)\n",
    "else:\n",
    "    recipe_log.to_csv('log_' + '_'.join(name) + '_1000.csv',index = False)"
   ]
  },
  {
   "cell_type": "code",
   "execution_count": 36,
   "metadata": {},
   "outputs": [
    {
     "data": {
      "text/plain": [
       "array(['vinegar', 'maple', 'syrup', 'sauce', 'sesame', 'oil',\n",
       "       'gingerroot', 'cabbage', 'onion', 'carrot', 'apple', 'mix',\n",
       "       'coleslaw', 'egg', 'yolk', 'sugar', 'butter', 'salt', 'cream',\n",
       "       'milk', 'cayenne', 'pepper', 'white', 'mustard', 'flour',\n",
       "       'paprika', 'mayonnaise', 'buttermilk', 'tarragon', 'water',\n",
       "       'celery', 'pineapple', 'ketchup', 'poppy', 'seed', 'lemon',\n",
       "       'juice', 'broccoli', 'almond', 'bell', 'chili', 'peanut', 'snow',\n",
       "       'pea', 'radish', 'cucumber', 'rice', 'miso', 'ginger', 'grapeseed',\n",
       "       'scallions', 'mandarin', 'orange', 'bok', 'choy', 'slice', 'snap',\n",
       "       'mushroom', 'ramen', 'noodle', 'chicken', 'cilantro', 'pickle',\n",
       "       'avocado', 'tabasco', 'lime', 'vegetable', 'curry', 'powder',\n",
       "       'raisin', 'bacon', 'barbecue', 'capsicum', 'spring', 'sausage',\n",
       "       'bun', 'beer', 'tortilla', 'wedge', 'strawberry', 'cranberry',\n",
       "       'cheese', 'parsley', 'splenda', 'garlic', 'walnut', 'zest',\n",
       "       'blueberry', 'clove', 'nutmeg', 'dijon', 'lemon-pepper',\n",
       "       'mackerel', 'fillet', 'potato', 'currant', 'chat', 'masala',\n",
       "       'honey', 'savoy', 'mango', 'shallot', 'tender', 'breadcrumb',\n",
       "       'dill', 'gorgonzola', 'goat', 'squash', 'bit', 'anchovy', 'wine',\n",
       "       'breast', 'cellophane', 'fish', 'basil', 'pear', '&',\n",
       "       'cauliflower', 'yogurt', 'celeriac', 'spice', 'cutlet', 'sprout',\n",
       "       'lettuce', 'pasta', 'half', 'spray', 'mint', 'chile', 'steak',\n",
       "       'sunflower', 'radicchio', 'tangerine', 'beef', 'ground', 'corn',\n",
       "       'bean', 'tomato', 'chipotle', 'cumin', 'chutney', 'jalapeno',\n",
       "       'sea', 'relish', 'substitute', 'feta', 'fennel', 'caper', 'bay',\n",
       "       'salad', 'horseradish', 'chive', 'pecan', 'flake', 'nut',\n",
       "       'miracle', 'whip', 'caraway', 'dress', 'season', 'cider',\n",
       "       'oregano', 'weed', 'wasabi', 'bulb', 'cinnamon', 'grape', 'chunk',\n",
       "       'napa', 'scallion', 'watercress', 'green', 'pork', 'loin',\n",
       "       'marinade', 'sandwich', 'chily', 'margarine', 'ham', 'bread',\n",
       "       'head', 'romaine', 'salmon', 'cod', 'polenta', 'jalapenos',\n",
       "       'jicama', 'coriander', 'olive', 'caesar', 'crouton', 'kaiser',\n",
       "       'garam', 'rind', 'marmalade', 'segment', 'macaroni', 'malt',\n",
       "       'pimiento', 'adobo', 'meatball', 'roll', 'chestnut', 'strip',\n",
       "       'hamburger', 'zucchini', 'beetroot', 'canola', 'cherry',\n",
       "       'vinaigrette', 'preserve', 'jelly', 'cornstarch', 'shrimp',\n",
       "       'cheddar', 'pepitas', 'soymilk', 'paste', 'baby', 'spinach',\n",
       "       'tilapia', 'ciabatta', 'banana', 'tuna', 'light', 'stock', 'oelek',\n",
       "       'salsa'], dtype=object)"
      ]
     },
     "execution_count": 36,
     "metadata": {},
     "output_type": "execute_result"
    }
   ],
   "source": [
    "recipe_log['ingredient'].unique()"
   ]
  },
  {
   "cell_type": "code",
   "execution_count": 37,
   "metadata": {},
   "outputs": [
    {
     "data": {
      "text/plain": [
       "array([   240,    451,   1016,   1443,   1709,   4079,   4966,   5513,\n",
       "         5835,   6368,   6595,   7455,   7476,   9130,   9138,   9215,\n",
       "         9216,   9217,   9218,   9219,   9415,   9457,   9525,   9594,\n",
       "        10453,  11386,  11583,  12493,  12511,  18335,  19215,  20246,\n",
       "        21340,  21936,  22181,  22325,  22464,  22709,  25443,  25445,\n",
       "        25654,  25937,  26495,  26558,  26845,  28987,  29339,  29960,\n",
       "        30031,  31193,  32095,  32187,  32455,  32942,  32954,  33038,\n",
       "        33217,  33218,  33245,  33519,  34056,  34123,  34313,  34501,\n",
       "        36236,  36237,  36238,  36239,  36613,  36660,  36773,  38023,\n",
       "        38039,  38076,  38488,  38611,  41836,  42679,  43810,  43811,\n",
       "        44843,  47272,  48281,  48291,  48304,  48305,  48353,  48354,\n",
       "        48925,  53113,  53217,  53341,  54313,  54750,  56683,  56684,\n",
       "        56685,  56686,  56687,  56688,  56690,  56691,  56692,  56693,\n",
       "        56694,  56695,  56696,  56698,  56701,  56702,  56703,  56704,\n",
       "        56705,  56706,  56707,  56708,  56709,  56710,  56711,  56712,\n",
       "        56714,  56844,  57134,  57692,  57693,  57908,  59846,  60306,\n",
       "        60468,  61165,  61196,  62418,  62462,  62801,  62802,  62803,\n",
       "        62804,  63404,  63407,  64288,  64339,  64646,  67065,  67073,\n",
       "        67104,  67172,  67249,  67319,  67339,  68450,  68860,  68969,\n",
       "        69072,  69557,  70820,  70867,  70945,  71284,  71634,  71727,\n",
       "        71875,  71989,  72002,  72647,  74725,  74889,  75215,  75967,\n",
       "        75996,  75997,  78684,  80338,  81039,  81287,  81928,  81975,\n",
       "        82663,  83004,  84434,  85999,  86172,  87606,  88347,  88631,\n",
       "        88661,  88711,  88973,  89044,  89085,  89457,  90169,  90170,\n",
       "        90854,  91363,  95223,  95224,  95225,  95500,  97038,  97599,\n",
       "        98013,  98728, 101105, 101555, 101559, 101730, 102550, 102791,\n",
       "       103431, 103479, 103866, 104093, 104596, 105461, 106076, 107524,\n",
       "       107614, 108088, 108362, 108410, 108863, 111355, 111427, 113782,\n",
       "       113821, 114034, 114191, 114969, 115130, 115141, 115986, 116032,\n",
       "       116562, 117227, 117237, 117238, 117239, 117244, 117248, 117274,\n",
       "       117330, 117389, 117694, 118004, 118047, 118804, 118832, 118838,\n",
       "       120856, 121374, 122070, 122493, 123590, 124013, 124163, 124404,\n",
       "       125101, 125109, 125452, 125530, 125579, 125608, 125808, 126080,\n",
       "       126294, 126989, 127332, 128094, 128223, 128933, 128934, 129061,\n",
       "       130520, 130691, 130872, 131205, 133638, 133646, 133647, 133956,\n",
       "       134169, 134170, 134171, 135850, 136211, 136993, 138159, 138435,\n",
       "       140091, 141270, 141701, 141764, 141812, 142001, 142024, 142077,\n",
       "       142172, 142238, 142651, 142773, 142774, 143048, 143958, 145049,\n",
       "       145050, 145359, 145705, 145755, 145822, 146764, 147965, 150031,\n",
       "       150032, 150093, 150200, 150390, 151298, 154630, 154722, 156520,\n",
       "       158273, 159506, 160091, 160308, 160632, 162076, 162220, 165995,\n",
       "       166527, 168480, 168847, 168863, 168908, 169164, 170023, 170033,\n",
       "       170104, 170120, 170248, 170369, 170370, 170381, 170405, 170472,\n",
       "       170601, 171757, 171804, 171812, 171917, 171919, 171922, 171923,\n",
       "       171966, 172849, 172952, 172991, 174592, 176616, 177111, 180326,\n",
       "       182238, 183829, 183993, 185327, 186680, 186780, 189586, 190120,\n",
       "       191015, 191202, 191233, 192313, 192572, 192970, 192971, 194208,\n",
       "       195176, 196406, 196770, 198618, 198794, 199645, 201741, 202679,\n",
       "       203106, 203661, 203918, 203957, 203960, 204444, 204947, 205615,\n",
       "       205693, 205944, 206146, 206203, 206242, 206825, 206954, 206961,\n",
       "       206982, 208142, 208415, 208426, 208686, 208801, 208813, 208851,\n",
       "       209438, 209829, 210112, 210173, 210182, 210380, 210511, 210568,\n",
       "       210994, 211429, 212020, 212165, 212360, 213554, 214004, 215566,\n",
       "       216536, 216706, 216742, 217080, 217228, 217755, 219210, 219332,\n",
       "       219405, 220401, 221613, 222912, 223283, 223405, 223427, 223614,\n",
       "       223937, 224050, 224623, 225121, 225181, 225201, 225217, 226520,\n",
       "       227403, 227529, 227591, 227901, 228863, 229264, 230432, 230699,\n",
       "       231120], dtype=int64)"
      ]
     },
     "execution_count": 37,
     "metadata": {},
     "output_type": "execute_result"
    }
   ],
   "source": [
    "recipe_log['case_id'].unique()"
   ]
  }
 ],
 "metadata": {
  "kernelspec": {
   "display_name": "Python 3",
   "language": "python",
   "name": "python3"
  },
  "language_info": {
   "codemirror_mode": {
    "name": "ipython",
    "version": 3
   },
   "file_extension": ".py",
   "mimetype": "text/x-python",
   "name": "python",
   "nbconvert_exporter": "python",
   "pygments_lexer": "ipython3",
   "version": "3.8.3"
  }
 },
 "nbformat": 4,
 "nbformat_minor": 4
}
