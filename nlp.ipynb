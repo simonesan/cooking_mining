{
 "cells": [
  {
   "cell_type": "code",
   "execution_count": 10,
   "metadata": {},
   "outputs": [],
   "source": [
    "import numpy\n",
    "import pandas as pd\n",
    "import nltk\n",
    "from ast import literal_eval\n",
    "import treetaggerwrapper as ttw"
   ]
  },
  {
   "cell_type": "code",
   "execution_count": 2,
   "metadata": {},
   "outputs": [],
   "source": [
    "recipes = pd.read_csv(\"data/RAW_recipes.csv\")\n",
    "recipes[\"steps\"] = recipes[\"steps\"].apply(literal_eval)\n",
    "recipes[\"ingredients\"] = recipes[\"ingredients\"].apply(literal_eval)\n",
    "recipes[\"tags\"] = recipes[\"tags\"].apply(literal_eval)"
   ]
  },
  {
   "cell_type": "code",
   "execution_count": 3,
   "metadata": {},
   "outputs": [
    {
     "data": {
      "text/plain": [
       "['make a choice and proceed with recipe',\n",
       " 'depending on size of squash , cut into half or fourths',\n",
       " 'remove seeds',\n",
       " 'for spicy squash , drizzle olive oil or melted butter over each cut squash piece',\n",
       " 'season with mexican seasoning mix ii',\n",
       " 'for sweet squash , drizzle melted honey , butter , grated piloncillo over each cut squash piece',\n",
       " 'season with sweet mexican spice mix',\n",
       " 'bake at 350 degrees , again depending on size , for 40 minutes up to an hour , until a fork can easily pierce the skin',\n",
       " 'be careful not to burn the squash especially if you opt to use sugar or butter',\n",
       " 'if you feel more comfortable , cover the squash with aluminum foil the first half hour , give or take , of baking',\n",
       " 'if desired , season with salt']"
      ]
     },
     "execution_count": 3,
     "metadata": {},
     "output_type": "execute_result"
    }
   ],
   "source": [
    "recipes[\"steps\"][0]"
   ]
  },
  {
   "cell_type": "code",
   "execution_count": 4,
   "metadata": {},
   "outputs": [
    {
     "data": {
      "text/plain": [
       "['winter squash',\n",
       " 'mexican seasoning',\n",
       " 'mixed spice',\n",
       " 'honey',\n",
       " 'butter',\n",
       " 'olive oil',\n",
       " 'salt']"
      ]
     },
     "execution_count": 4,
     "metadata": {},
     "output_type": "execute_result"
    }
   ],
   "source": [
    "recipes[\"ingredients\"][0]"
   ]
  },
  {
   "cell_type": "code",
   "execution_count": 7,
   "metadata": {},
   "outputs": [
    {
     "data": {
      "text/plain": [
       "['depending\\tVVG\\tdepend|depending',\n",
       " 'on\\tPRP\\ton',\n",
       " 'size\\tNN1\\tsize',\n",
       " 'of\\tPRF\\tof',\n",
       " 'squash\\tNN1\\tsquash',\n",
       " ',\\tPUN\\t,',\n",
       " 'cut\\tVVN\\tcut',\n",
       " 'into\\tPRP\\tinto',\n",
       " 'half\\tNN1\\thalf',\n",
       " 'or\\tCJC\\tor',\n",
       " 'fourths\\tNN2\\tfourth']"
      ]
     },
     "execution_count": 7,
     "metadata": {},
     "output_type": "execute_result"
    }
   ],
   "source": [
    "tagger = treetaggerwrapper.TreeTagger(TAGLANG='en')\n",
    "tags = tagger.tag_text(recipes[\"steps\"][0][1])\n",
    "tags"
   ]
  },
  {
   "cell_type": "code",
   "execution_count": 18,
   "metadata": {},
   "outputs": [],
   "source": [
    "preprocessed_sentence = ''\n",
    "lemma_sentence = ''\n",
    "def tree_tag(text, tagger):\n",
    "    tagged_text = tagger.tag_text(text)\n",
    "    return ttw.make_tags(tagged_text)"
   ]
  },
  {
   "cell_type": "code",
   "execution_count": 19,
   "metadata": {},
   "outputs": [
    {
     "data": {
      "text/plain": [
       "'depend|depending [VVG] on [PRP] size [NN1] of [PRF] squash [NN1] , [PUN] cut [VVN] into [PRP] half [NN1] or [CJC] fourth [NN2] '"
      ]
     },
     "execution_count": 19,
     "metadata": {},
     "output_type": "execute_result"
    }
   ],
   "source": [
    "#translator = Translator()\n",
    "tagger = ttw.TreeTagger(TAGLANG='en')\n",
    "#stemmer = SnowballStemmer(\"german\")\n",
    "\n",
    "\n",
    "original_sentence = recipes[\"steps\"][0][1]\n",
    "\n",
    "sentence = tree_tag(recipes[\"steps\"][0][1], tagger)\n",
    "\n",
    "preprocessed_sentence = ''\n",
    "lemma_sentence = ''\n",
    "stemmed_sentence = ''\n",
    "synonym_sentence = ''\n",
    "\n",
    "for tag in sentence:\n",
    "# remove special characters\n",
    "    if isinstance(tag, ttw.Tag):\n",
    "\n",
    "        preprocessed_sentence += tag.word + ' '\n",
    "\n",
    "        ## lemmatization\n",
    "        lemma_sentence += tag.lemma + ' [' + tag.pos + '] '\n",
    "\n",
    "        # stem and replace umlauts, accents etc.\n",
    "        # stem = stemmer.stem(normalize_text(tag.lemma))\n",
    "        # stemmed_sentence += stem + ' [' + tag.pos + '] '\n",
    "\n",
    "        # get synonym group\n",
    "        # group = thesaurus[thesaurus['word'] == tag.lemma]['group']\n",
    "        # synonym_sentence += stem + ' [' + tag.pos + '] ' + str(group.values) + ' '\n",
    "\n",
    "lemma_sentence"
   ]
  }
 ],
 "metadata": {
  "kernelspec": {
   "display_name": "Python 3",
   "language": "python",
   "name": "python3"
  },
  "language_info": {
   "codemirror_mode": {
    "name": "ipython",
    "version": 3
   },
   "file_extension": ".py",
   "mimetype": "text/x-python",
   "name": "python",
   "nbconvert_exporter": "python",
   "pygments_lexer": "ipython3",
   "version": "3.8.3"
  }
 },
 "nbformat": 4,
 "nbformat_minor": 4
}
