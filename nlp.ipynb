{
 "cells": [
  {
   "cell_type": "code",
   "execution_count": 2,
   "metadata": {},
   "outputs": [],
   "source": [
    "import numpy\n",
    "import pandas as pd\n",
    "import nltk\n",
    "from ast import literal_eval\n",
    "import treetaggerwrapper as ttw\n",
    "from nltk.stem.porter import *"
   ]
  },
  {
   "cell_type": "code",
   "execution_count": 3,
   "metadata": {},
   "outputs": [],
   "source": [
    "recipes = pd.read_csv(\"data/RAW_recipes.csv\")\n",
    "recipes[\"steps\"] = recipes[\"steps\"].apply(literal_eval)\n",
    "recipes[\"ingredients\"] = recipes[\"ingredients\"].apply(literal_eval)\n",
    "recipes[\"tags\"] = recipes[\"tags\"].apply(literal_eval)"
   ]
  },
  {
   "cell_type": "code",
   "execution_count": 78,
   "metadata": {},
   "outputs": [
    {
     "data": {
      "text/plain": [
       "['30-minutes-or-less',\n",
       " 'time-to-make',\n",
       " 'course',\n",
       " 'main-ingredient',\n",
       " 'cuisine',\n",
       " 'preparation',\n",
       " 'occasion',\n",
       " 'north-american',\n",
       " 'breakfast',\n",
       " 'main-dish',\n",
       " 'pork',\n",
       " 'american',\n",
       " 'oven',\n",
       " 'easy',\n",
       " 'kid-friendly',\n",
       " 'pizza',\n",
       " 'dietary',\n",
       " 'northeastern-united-states',\n",
       " 'meat',\n",
       " 'equipment']"
      ]
     },
     "execution_count": 78,
     "metadata": {},
     "output_type": "execute_result"
    }
   ],
   "source": [
    "recipes[\"tags\"][1]"
   ]
  },
  {
   "cell_type": "code",
   "execution_count": 4,
   "metadata": {},
   "outputs": [
    {
     "data": {
      "text/plain": [
       "['make a choice and proceed with recipe',\n",
       " 'depending on size of squash , cut into half or fourths',\n",
       " 'remove seeds',\n",
       " 'for spicy squash , drizzle olive oil or melted butter over each cut squash piece',\n",
       " 'season with mexican seasoning mix ii',\n",
       " 'for sweet squash , drizzle melted honey , butter , grated piloncillo over each cut squash piece',\n",
       " 'season with sweet mexican spice mix',\n",
       " 'bake at 350 degrees , again depending on size , for 40 minutes up to an hour , until a fork can easily pierce the skin',\n",
       " 'be careful not to burn the squash especially if you opt to use sugar or butter',\n",
       " 'if you feel more comfortable , cover the squash with aluminum foil the first half hour , give or take , of baking',\n",
       " 'if desired , season with salt']"
      ]
     },
     "execution_count": 4,
     "metadata": {},
     "output_type": "execute_result"
    }
   ],
   "source": [
    "recipes[\"steps\"][0]"
   ]
  },
  {
   "cell_type": "code",
   "execution_count": 5,
   "metadata": {},
   "outputs": [
    {
     "data": {
      "text/plain": [
       "['winter squash',\n",
       " 'mexican seasoning',\n",
       " 'mixed spice',\n",
       " 'honey',\n",
       " 'butter',\n",
       " 'olive oil',\n",
       " 'salt']"
      ]
     },
     "execution_count": 5,
     "metadata": {},
     "output_type": "execute_result"
    }
   ],
   "source": [
    "recipes[\"ingredients\"][0]"
   ]
  },
  {
   "cell_type": "code",
   "execution_count": 48,
   "metadata": {},
   "outputs": [],
   "source": []
  },
  {
   "cell_type": "code",
   "execution_count": 7,
   "metadata": {},
   "outputs": [],
   "source": [
    "preprocessed_sentence = ''\n",
    "lemma_sentence = ''\n",
    "def tree_tag(text, tagger):\n",
    "    tagged_text = tagger.tag_text(text)\n",
    "    return ttw.make_tags(tagged_text)"
   ]
  },
  {
   "cell_type": "code",
   "execution_count": 22,
   "metadata": {},
   "outputs": [],
   "source": [
    "def tag_ingredients(ingredients):\n",
    "    \n",
    "    tagged_ingredients = []\n",
    "    for ingredient in ingredients:\n",
    "    \n",
    "        sentence = tree_tag(ingredient, tagger)\n",
    "\n",
    "        for tag in sentence:\n",
    "        # remove special characters\n",
    "            if isinstance(tag, ttw.Tag):\n",
    "\n",
    "                # stem\n",
    "                stem = stemmer.stem(tag.lemma)\n",
    "                \n",
    "                if tag.pos in ['NN0', 'NN1', 'NN2']:\n",
    "                    tagged_ingredients.append(stem.split('|')[0])\n",
    "    return tagged_ingredients\n"
   ]
  },
  {
   "cell_type": "code",
   "execution_count": 63,
   "metadata": {},
   "outputs": [],
   "source": [
    "def tag_sentence(original_sentence, ingredients):\n",
    "    \n",
    "    sentence = tree_tag(original_sentence, tagger)\n",
    "\n",
    "    step_ingredients = []\n",
    "    step_activities = []\n",
    "    \n",
    "    for tag in sentence:\n",
    "    # remove special characters\n",
    "        if isinstance(tag, ttw.Tag):\n",
    "            \n",
    "            # stem\n",
    "            stem = stemmer.stem(tag.lemma)\n",
    "            if stem in ingredients:\n",
    "                step_ingredients.append(tag.lemma.split('|')[0])\n",
    "            if tag.pos in ['VVB','VVZ','VVI',\n",
    "                           'VVD','VVN', 'VVP','VVG']:#VVG not sure\n",
    "                step_activities.append(tag.lemma.split('|')[0])\n",
    "                \n",
    "    if len(step_activities) == 0:\n",
    "        # default activity if no verb is present\n",
    "        step_activities.append('use')\n",
    "\n",
    "    return step_ingredients, step_activities\n",
    "\n",
    "            "
   ]
  },
  {
   "cell_type": "code",
   "execution_count": 91,
   "metadata": {},
   "outputs": [],
   "source": [
    "tagger = ttw.TreeTagger(TAGLANG='en')\n",
    "stemmer = PorterStemmer()\n",
    "\n",
    "case_id_col = []\n",
    "event_id_col = []\n",
    "order_col = []\n",
    "activity_col = []\n",
    "ingredient_col = []\n",
    "\n",
    "event_cnt = 0 \n",
    "\n",
    "for i in range(0,recipes.shape[0]):\n",
    "\n",
    "    if 'cocktails' in recipes[\"tags\"][i]:\n",
    "        ingredients = tag_ingredients(recipes[\"ingredients\"][i])\n",
    "\n",
    "        order_cnt = 0\n",
    "\n",
    "        for original_sentence in recipes[\"steps\"][i]:\n",
    "            step_ingredients, step_activities = tag_sentence(original_sentence,ingredients)\n",
    "\n",
    "            # synchronous events\n",
    "            for ingredient in step_ingredients:\n",
    "                for activity in step_activities:\n",
    "                    case_id_col.append(i)\n",
    "                    event_id_col.append(event_cnt)\n",
    "                    event_cnt += 1\n",
    "                    order_col.append(order_cnt)\n",
    "\n",
    "                    activity_col.append(activity)\n",
    "                    ingredient_col.append(ingredient)\n",
    "\n",
    "            order_cnt += 1"
   ]
  },
  {
   "cell_type": "code",
   "execution_count": 92,
   "metadata": {},
   "outputs": [
    {
     "data": {
      "text/html": [
       "<div>\n",
       "<style scoped>\n",
       "    .dataframe tbody tr th:only-of-type {\n",
       "        vertical-align: middle;\n",
       "    }\n",
       "\n",
       "    .dataframe tbody tr th {\n",
       "        vertical-align: top;\n",
       "    }\n",
       "\n",
       "    .dataframe thead th {\n",
       "        text-align: right;\n",
       "    }\n",
       "</style>\n",
       "<table border=\"1\" class=\"dataframe\">\n",
       "  <thead>\n",
       "    <tr style=\"text-align: right;\">\n",
       "      <th></th>\n",
       "      <th>case_id</th>\n",
       "      <th>event_id</th>\n",
       "      <th>order</th>\n",
       "      <th>activity</th>\n",
       "      <th>ingredient</th>\n",
       "    </tr>\n",
       "  </thead>\n",
       "  <tbody>\n",
       "    <tr>\n",
       "      <th>0</th>\n",
       "      <td>102</td>\n",
       "      <td>0</td>\n",
       "      <td>0</td>\n",
       "      <td>use</td>\n",
       "      <td>limeade</td>\n",
       "    </tr>\n",
       "    <tr>\n",
       "      <th>1</th>\n",
       "      <td>102</td>\n",
       "      <td>1</td>\n",
       "      <td>0</td>\n",
       "      <td>use</td>\n",
       "      <td>lime</td>\n",
       "    </tr>\n",
       "    <tr>\n",
       "      <th>2</th>\n",
       "      <td>102</td>\n",
       "      <td>2</td>\n",
       "      <td>0</td>\n",
       "      <td>use</td>\n",
       "      <td>juice</td>\n",
       "    </tr>\n",
       "    <tr>\n",
       "      <th>3</th>\n",
       "      <td>102</td>\n",
       "      <td>3</td>\n",
       "      <td>0</td>\n",
       "      <td>use</td>\n",
       "      <td>tequila</td>\n",
       "    </tr>\n",
       "    <tr>\n",
       "      <th>4</th>\n",
       "      <td>102</td>\n",
       "      <td>4</td>\n",
       "      <td>2</td>\n",
       "      <td>garnish</td>\n",
       "      <td>lime</td>\n",
       "    </tr>\n",
       "    <tr>\n",
       "      <th>...</th>\n",
       "      <td>...</td>\n",
       "      <td>...</td>\n",
       "      <td>...</td>\n",
       "      <td>...</td>\n",
       "      <td>...</td>\n",
       "    </tr>\n",
       "    <tr>\n",
       "      <th>25252</th>\n",
       "      <td>230329</td>\n",
       "      <td>25252</td>\n",
       "      <td>1</td>\n",
       "      <td>add</td>\n",
       "      <td>juice</td>\n",
       "    </tr>\n",
       "    <tr>\n",
       "      <th>25253</th>\n",
       "      <td>230329</td>\n",
       "      <td>25253</td>\n",
       "      <td>2</td>\n",
       "      <td>fill</td>\n",
       "      <td>soda</td>\n",
       "    </tr>\n",
       "    <tr>\n",
       "      <th>25254</th>\n",
       "      <td>230382</td>\n",
       "      <td>25254</td>\n",
       "      <td>0</td>\n",
       "      <td>mix</td>\n",
       "      <td>ice</td>\n",
       "    </tr>\n",
       "    <tr>\n",
       "      <th>25255</th>\n",
       "      <td>230382</td>\n",
       "      <td>25255</td>\n",
       "      <td>1</td>\n",
       "      <td>garnish</td>\n",
       "      <td>pickle</td>\n",
       "    </tr>\n",
       "    <tr>\n",
       "      <th>25256</th>\n",
       "      <td>230766</td>\n",
       "      <td>25256</td>\n",
       "      <td>2</td>\n",
       "      <td>top</td>\n",
       "      <td>pineapple</td>\n",
       "    </tr>\n",
       "  </tbody>\n",
       "</table>\n",
       "<p>25257 rows × 5 columns</p>\n",
       "</div>"
      ],
      "text/plain": [
       "       case_id  event_id  order activity ingredient\n",
       "0          102         0      0      use    limeade\n",
       "1          102         1      0      use       lime\n",
       "2          102         2      0      use      juice\n",
       "3          102         3      0      use    tequila\n",
       "4          102         4      2  garnish       lime\n",
       "...        ...       ...    ...      ...        ...\n",
       "25252   230329     25252      1      add      juice\n",
       "25253   230329     25253      2     fill       soda\n",
       "25254   230382     25254      0      mix        ice\n",
       "25255   230382     25255      1  garnish     pickle\n",
       "25256   230766     25256      2      top  pineapple\n",
       "\n",
       "[25257 rows x 5 columns]"
      ]
     },
     "execution_count": 92,
     "metadata": {},
     "output_type": "execute_result"
    }
   ],
   "source": [
    "recipe_log = pd.DataFrame({'case_id': case_id_col,\n",
    "                           'event_id': event_id_col,\n",
    "                           'order': order_col,\n",
    "                           'activity': activity_col,\n",
    "                           'ingredient': ingredient_col})\n",
    "recipe_log"
   ]
  },
  {
   "cell_type": "code",
   "execution_count": 93,
   "metadata": {},
   "outputs": [],
   "source": [
    "recipe_log.to_csv('log_cocktails.csv',index = False)"
   ]
  },
  {
   "cell_type": "code",
   "execution_count": null,
   "metadata": {},
   "outputs": [],
   "source": []
  }
 ],
 "metadata": {
  "kernelspec": {
   "display_name": "Python 3",
   "language": "python",
   "name": "python3"
  },
  "language_info": {
   "codemirror_mode": {
    "name": "ipython",
    "version": 3
   },
   "file_extension": ".py",
   "mimetype": "text/x-python",
   "name": "python",
   "nbconvert_exporter": "python",
   "pygments_lexer": "ipython3",
   "version": "3.8.3"
  }
 },
 "nbformat": 4,
 "nbformat_minor": 4
}
